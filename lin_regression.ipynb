{
 "cells": [
  {
   "cell_type": "code",
   "execution_count": 2,
   "id": "973f0a91",
   "metadata": {},
   "outputs": [],
   "source": [
    "from sklearn.linear_model import LinearRegression\n",
    "import pandas as pd\n",
    "import seaborn as sns\n",
    "from sklearn.metrics import mean_squared_error, r2_score\n",
    "from sklearn.model_selection import train_test_split\n"
   ]
  },
  {
   "cell_type": "code",
   "execution_count": 3,
   "id": "d028681b",
   "metadata": {},
   "outputs": [],
   "source": [
    "brazil_data_unclean = pd.read_csv(\n",
    "    \"b3_stocks_1994_2020.csv\"\n",
    ")"
   ]
  },
  {
   "cell_type": "code",
   "execution_count": 4,
   "id": "3ec0d4d4",
   "metadata": {},
   "outputs": [
    {
     "data": {
      "text/html": [
       "<div>\n",
       "<style scoped>\n",
       "    .dataframe tbody tr th:only-of-type {\n",
       "        vertical-align: middle;\n",
       "    }\n",
       "\n",
       "    .dataframe tbody tr th {\n",
       "        vertical-align: top;\n",
       "    }\n",
       "\n",
       "    .dataframe thead th {\n",
       "        text-align: right;\n",
       "    }\n",
       "</style>\n",
       "<table border=\"1\" class=\"dataframe\">\n",
       "  <thead>\n",
       "    <tr style=\"text-align: right;\">\n",
       "      <th></th>\n",
       "      <th>datetime</th>\n",
       "      <th>ticker</th>\n",
       "      <th>open</th>\n",
       "      <th>close</th>\n",
       "      <th>high</th>\n",
       "      <th>low</th>\n",
       "      <th>volumen</th>\n",
       "    </tr>\n",
       "  </thead>\n",
       "  <tbody>\n",
       "    <tr>\n",
       "      <th>0</th>\n",
       "      <td>1994-07-04</td>\n",
       "      <td>ACE 3</td>\n",
       "      <td>48.00</td>\n",
       "      <td>48.00</td>\n",
       "      <td>48.00</td>\n",
       "      <td>47.00</td>\n",
       "      <td>46550.00</td>\n",
       "    </tr>\n",
       "    <tr>\n",
       "      <th>1</th>\n",
       "      <td>1994-07-04</td>\n",
       "      <td>ALP 3</td>\n",
       "      <td>155.27</td>\n",
       "      <td>156.00</td>\n",
       "      <td>156.00</td>\n",
       "      <td>155.27</td>\n",
       "      <td>163405.80</td>\n",
       "    </tr>\n",
       "    <tr>\n",
       "      <th>2</th>\n",
       "      <td>1994-07-04</td>\n",
       "      <td>ALP 4</td>\n",
       "      <td>131.00</td>\n",
       "      <td>131.00</td>\n",
       "      <td>131.00</td>\n",
       "      <td>131.00</td>\n",
       "      <td>6550.00</td>\n",
       "    </tr>\n",
       "    <tr>\n",
       "      <th>3</th>\n",
       "      <td>1994-07-04</td>\n",
       "      <td>IBP 6</td>\n",
       "      <td>600.00</td>\n",
       "      <td>600.00</td>\n",
       "      <td>600.00</td>\n",
       "      <td>600.00</td>\n",
       "      <td>7800.00</td>\n",
       "    </tr>\n",
       "    <tr>\n",
       "      <th>4</th>\n",
       "      <td>1994-07-04</td>\n",
       "      <td>AQT 4</td>\n",
       "      <td>0.89</td>\n",
       "      <td>0.99</td>\n",
       "      <td>0.99</td>\n",
       "      <td>0.85</td>\n",
       "      <td>13137.00</td>\n",
       "    </tr>\n",
       "    <tr>\n",
       "      <th>...</th>\n",
       "      <td>...</td>\n",
       "      <td>...</td>\n",
       "      <td>...</td>\n",
       "      <td>...</td>\n",
       "      <td>...</td>\n",
       "      <td>...</td>\n",
       "      <td>...</td>\n",
       "    </tr>\n",
       "    <tr>\n",
       "      <th>1883198</th>\n",
       "      <td>2020-12-28</td>\n",
       "      <td>Z1TO34</td>\n",
       "      <td>36.72</td>\n",
       "      <td>36.72</td>\n",
       "      <td>36.72</td>\n",
       "      <td>36.72</td>\n",
       "      <td>1358.64</td>\n",
       "    </tr>\n",
       "    <tr>\n",
       "      <th>1883199</th>\n",
       "      <td>2020-12-29</td>\n",
       "      <td>Z1TO34</td>\n",
       "      <td>36.31</td>\n",
       "      <td>36.31</td>\n",
       "      <td>36.31</td>\n",
       "      <td>36.31</td>\n",
       "      <td>3631.00</td>\n",
       "    </tr>\n",
       "    <tr>\n",
       "      <th>1883200</th>\n",
       "      <td>2020-12-30</td>\n",
       "      <td>Z1TO34</td>\n",
       "      <td>38.09</td>\n",
       "      <td>37.50</td>\n",
       "      <td>38.09</td>\n",
       "      <td>37.50</td>\n",
       "      <td>2295.17</td>\n",
       "    </tr>\n",
       "    <tr>\n",
       "      <th>1883201</th>\n",
       "      <td>2020-12-23</td>\n",
       "      <td>Z1TS34</td>\n",
       "      <td>209.18</td>\n",
       "      <td>209.18</td>\n",
       "      <td>209.18</td>\n",
       "      <td>209.18</td>\n",
       "      <td>10459.00</td>\n",
       "    </tr>\n",
       "    <tr>\n",
       "      <th>1883202</th>\n",
       "      <td>2020-12-28</td>\n",
       "      <td>Z1TS34</td>\n",
       "      <td>212.14</td>\n",
       "      <td>213.59</td>\n",
       "      <td>213.59</td>\n",
       "      <td>212.14</td>\n",
       "      <td>425.73</td>\n",
       "    </tr>\n",
       "  </tbody>\n",
       "</table>\n",
       "<p>1883203 rows × 7 columns</p>\n",
       "</div>"
      ],
      "text/plain": [
       "           datetime  ticker    open   close    high     low    volumen\n",
       "0        1994-07-04   ACE 3   48.00   48.00   48.00   47.00   46550.00\n",
       "1        1994-07-04   ALP 3  155.27  156.00  156.00  155.27  163405.80\n",
       "2        1994-07-04   ALP 4  131.00  131.00  131.00  131.00    6550.00\n",
       "3        1994-07-04   IBP 6  600.00  600.00  600.00  600.00    7800.00\n",
       "4        1994-07-04   AQT 4    0.89    0.99    0.99    0.85   13137.00\n",
       "...             ...     ...     ...     ...     ...     ...        ...\n",
       "1883198  2020-12-28  Z1TO34   36.72   36.72   36.72   36.72    1358.64\n",
       "1883199  2020-12-29  Z1TO34   36.31   36.31   36.31   36.31    3631.00\n",
       "1883200  2020-12-30  Z1TO34   38.09   37.50   38.09   37.50    2295.17\n",
       "1883201  2020-12-23  Z1TS34  209.18  209.18  209.18  209.18   10459.00\n",
       "1883202  2020-12-28  Z1TS34  212.14  213.59  213.59  212.14     425.73\n",
       "\n",
       "[1883203 rows x 7 columns]"
      ]
     },
     "execution_count": 4,
     "metadata": {},
     "output_type": "execute_result"
    }
   ],
   "source": [
    "brazil_data_unclean"
   ]
  },
  {
   "cell_type": "code",
   "execution_count": 5,
   "id": "5a57b7b2",
   "metadata": {},
   "outputs": [
    {
     "data": {
      "text/plain": [
       "<AxesSubplot:>"
      ]
     },
     "execution_count": 5,
     "metadata": {},
     "output_type": "execute_result"
    },
    {
     "data": {
      "image/png": "[encoded data removed]",
      "text/plain": [
       "<Figure size 432x288 with 1 Axes>"
      ]
     },
     "metadata": {
      "needs_background": "light"
     },
     "output_type": "display_data"
    }
   ],
   "source": [
    "sns.heatmap(\n",
    "    brazil_data_unclean.isnull(), yticklabels=False, cbar=False, cmap=\"cubehelix\"\n",
    ")"
   ]
  },
  {
   "cell_type": "code",
   "execution_count": 6,
   "id": "33c6e155",
   "metadata": {},
   "outputs": [
    {
     "data": {
      "text/plain": [
       "datetime    False\n",
       "ticker      False\n",
       "open        False\n",
       "close       False\n",
       "high        False\n",
       "low         False\n",
       "volumen     False\n",
       "dtype: bool"
      ]
     },
     "execution_count": 6,
     "metadata": {},
     "output_type": "execute_result"
    }
   ],
   "source": [
    "brazil_data_unclean.isna().any()"
   ]
  },
  {
   "cell_type": "code",
   "execution_count": 7,
   "id": "3fc447f3",
   "metadata": {},
   "outputs": [],
   "source": [
    "#since there is no unclean data:\n",
    "brazil_data = brazil_data_unclean"
   ]
  },
  {
   "cell_type": "code",
   "execution_count": 8,
   "id": "00ee9c85",
   "metadata": {},
   "outputs": [],
   "source": [
    "brazil_features = [\"open\", \"high\", \"low\", \"close\", \"volumen\"]"
   ]
  },
  {
   "cell_type": "code",
   "execution_count": 9,
   "id": "9b50b3d1",
   "metadata": {},
   "outputs": [],
   "source": [
    "X = brazil_data[brazil_features]"
   ]
  },
  {
   "cell_type": "code",
   "execution_count": 10,
   "id": "3eece1df",
   "metadata": {},
   "outputs": [
    {
     "data": {
      "text/html": [
       "<div>\n",
       "<style scoped>\n",
       "    .dataframe tbody tr th:only-of-type {\n",
       "        vertical-align: middle;\n",
       "    }\n",
       "\n",
       "    .dataframe tbody tr th {\n",
       "        vertical-align: top;\n",
       "    }\n",
       "\n",
       "    .dataframe thead th {\n",
       "        text-align: right;\n",
       "    }\n",
       "</style>\n",
       "<table border=\"1\" class=\"dataframe\">\n",
       "  <thead>\n",
       "    <tr style=\"text-align: right;\">\n",
       "      <th></th>\n",
       "      <th>open</th>\n",
       "      <th>high</th>\n",
       "      <th>low</th>\n",
       "      <th>close</th>\n",
       "      <th>volumen</th>\n",
       "    </tr>\n",
       "  </thead>\n",
       "  <tbody>\n",
       "    <tr>\n",
       "      <th>count</th>\n",
       "      <td>1.883203e+06</td>\n",
       "      <td>1.883203e+06</td>\n",
       "      <td>1.883203e+06</td>\n",
       "      <td>1.883203e+06</td>\n",
       "      <td>1.883203e+06</td>\n",
       "    </tr>\n",
       "    <tr>\n",
       "      <th>mean</th>\n",
       "      <td>6.814208e+01</td>\n",
       "      <td>6.882414e+01</td>\n",
       "      <td>6.754027e+01</td>\n",
       "      <td>6.827674e+01</td>\n",
       "      <td>1.668286e+07</td>\n",
       "    </tr>\n",
       "    <tr>\n",
       "      <th>std</th>\n",
       "      <td>1.689781e+03</td>\n",
       "      <td>1.699966e+03</td>\n",
       "      <td>1.683604e+03</td>\n",
       "      <td>1.695070e+03</td>\n",
       "      <td>1.026344e+08</td>\n",
       "    </tr>\n",
       "    <tr>\n",
       "      <th>min</th>\n",
       "      <td>1.000000e-02</td>\n",
       "      <td>1.000000e-02</td>\n",
       "      <td>1.000000e-02</td>\n",
       "      <td>0.000000e+00</td>\n",
       "      <td>0.000000e+00</td>\n",
       "    </tr>\n",
       "    <tr>\n",
       "      <th>25%</th>\n",
       "      <td>3.960000e+00</td>\n",
       "      <td>4.000000e+00</td>\n",
       "      <td>3.890000e+00</td>\n",
       "      <td>3.960000e+00</td>\n",
       "      <td>1.800500e+04</td>\n",
       "    </tr>\n",
       "    <tr>\n",
       "      <th>50%</th>\n",
       "      <td>1.369000e+01</td>\n",
       "      <td>1.392000e+01</td>\n",
       "      <td>1.345000e+01</td>\n",
       "      <td>1.370000e+01</td>\n",
       "      <td>2.526560e+05</td>\n",
       "    </tr>\n",
       "    <tr>\n",
       "      <th>75%</th>\n",
       "      <td>3.670000e+01</td>\n",
       "      <td>3.714000e+01</td>\n",
       "      <td>3.608000e+01</td>\n",
       "      <td>3.673000e+01</td>\n",
       "      <td>4.794014e+06</td>\n",
       "    </tr>\n",
       "    <tr>\n",
       "      <th>max</th>\n",
       "      <td>1.297776e+06</td>\n",
       "      <td>1.297776e+06</td>\n",
       "      <td>1.297776e+06</td>\n",
       "      <td>1.297776e+06</td>\n",
       "      <td>4.298380e+10</td>\n",
       "    </tr>\n",
       "  </tbody>\n",
       "</table>\n",
       "</div>"
      ],
      "text/plain": [
       "               open          high           low         close       volumen\n",
       "count  1.883203e+06  1.883203e+06  1.883203e+06  1.883203e+06  1.883203e+06\n",
       "mean   6.814208e+01  6.882414e+01  6.754027e+01  6.827674e+01  1.668286e+07\n",
       "std    1.689781e+03  1.699966e+03  1.683604e+03  1.695070e+03  1.026344e+08\n",
       "min    1.000000e-02  1.000000e-02  1.000000e-02  0.000000e+00  0.000000e+00\n",
       "25%    3.960000e+00  4.000000e+00  3.890000e+00  3.960000e+00  1.800500e+04\n",
       "50%    1.369000e+01  1.392000e+01  1.345000e+01  1.370000e+01  2.526560e+05\n",
       "75%    3.670000e+01  3.714000e+01  3.608000e+01  3.673000e+01  4.794014e+06\n",
       "max    1.297776e+06  1.297776e+06  1.297776e+06  1.297776e+06  4.298380e+10"
      ]
     },
     "execution_count": 10,
     "metadata": {},
     "output_type": "execute_result"
    }
   ],
   "source": [
    "X.describe()"
   ]
  },
  {
   "cell_type": "markdown",
   "id": "f88a7578",
   "metadata": {},
   "source": [
    "### Note: We will predict the future performance of each feature in X based on the past performance of ALL other features in X"
   ]
  },
  {
   "cell_type": "code",
   "execution_count": 11,
   "id": "cd85284b",
   "metadata": {},
   "outputs": [
    {
     "data": {
      "text/html": [
       "<div>\n",
       "<style scoped>\n",
       "    .dataframe tbody tr th:only-of-type {\n",
       "        vertical-align: middle;\n",
       "    }\n",
       "\n",
       "    .dataframe tbody tr th {\n",
       "        vertical-align: top;\n",
       "    }\n",
       "\n",
       "    .dataframe thead th {\n",
       "        text-align: right;\n",
       "    }\n",
       "</style>\n",
       "<table border=\"1\" class=\"dataframe\">\n",
       "  <thead>\n",
       "    <tr style=\"text-align: right;\">\n",
       "      <th></th>\n",
       "      <th>open</th>\n",
       "      <th>high</th>\n",
       "      <th>low</th>\n",
       "      <th>close</th>\n",
       "      <th>volumen</th>\n",
       "    </tr>\n",
       "  </thead>\n",
       "  <tbody>\n",
       "    <tr>\n",
       "      <th>0</th>\n",
       "      <td>48.00</td>\n",
       "      <td>48.00</td>\n",
       "      <td>47.00</td>\n",
       "      <td>48.00</td>\n",
       "      <td>46550.0</td>\n",
       "    </tr>\n",
       "    <tr>\n",
       "      <th>1</th>\n",
       "      <td>155.27</td>\n",
       "      <td>156.00</td>\n",
       "      <td>155.27</td>\n",
       "      <td>156.00</td>\n",
       "      <td>163405.8</td>\n",
       "    </tr>\n",
       "    <tr>\n",
       "      <th>2</th>\n",
       "      <td>131.00</td>\n",
       "      <td>131.00</td>\n",
       "      <td>131.00</td>\n",
       "      <td>131.00</td>\n",
       "      <td>6550.0</td>\n",
       "    </tr>\n",
       "    <tr>\n",
       "      <th>3</th>\n",
       "      <td>600.00</td>\n",
       "      <td>600.00</td>\n",
       "      <td>600.00</td>\n",
       "      <td>600.00</td>\n",
       "      <td>7800.0</td>\n",
       "    </tr>\n",
       "    <tr>\n",
       "      <th>4</th>\n",
       "      <td>0.89</td>\n",
       "      <td>0.99</td>\n",
       "      <td>0.85</td>\n",
       "      <td>0.99</td>\n",
       "      <td>13137.0</td>\n",
       "    </tr>\n",
       "  </tbody>\n",
       "</table>\n",
       "</div>"
      ],
      "text/plain": [
       "     open    high     low   close   volumen\n",
       "0   48.00   48.00   47.00   48.00   46550.0\n",
       "1  155.27  156.00  155.27  156.00  163405.8\n",
       "2  131.00  131.00  131.00  131.00    6550.0\n",
       "3  600.00  600.00  600.00  600.00    7800.0\n",
       "4    0.89    0.99    0.85    0.99   13137.0"
      ]
     },
     "execution_count": 11,
     "metadata": {},
     "output_type": "execute_result"
    }
   ],
   "source": [
    "X.head()"
   ]
  },
  {
   "cell_type": "markdown",
   "id": "934a0c9c",
   "metadata": {},
   "source": [
    "# Part 1: Predict Open Prices"
   ]
  },
  {
   "cell_type": "code",
   "execution_count": 101,
   "id": "b1f5041b",
   "metadata": {},
   "outputs": [],
   "source": [
    "y_open = brazil_data.open"
   ]
  },
  {
   "cell_type": "code",
   "execution_count": 102,
   "id": "d7427629",
   "metadata": {},
   "outputs": [],
   "source": [
    "open_train_X, open_test_X, open_train_y, open_test_y = train_test_split(X, y_open, train_size=0.7,test_size=0.3) "
   ]
  },
  {
   "cell_type": "code",
   "execution_count": 103,
   "id": "9a643163",
   "metadata": {},
   "outputs": [],
   "source": [
    "open_model = LinearRegression()"
   ]
  },
  {
   "cell_type": "code",
   "execution_count": 104,
   "id": "2423117a",
   "metadata": {},
   "outputs": [
    {
     "data": {
      "text/plain": [
       "LinearRegression()"
      ]
     },
     "execution_count": 104,
     "metadata": {},
     "output_type": "execute_result"
    }
   ],
   "source": [
    "open_model.fit(open_train_X, open_train_y)"
   ]
  },
  {
   "cell_type": "code",
   "execution_count": 105,
   "id": "89616e16",
   "metadata": {},
   "outputs": [],
   "source": [
    "open_y_pred = model.predict(open_test_X)"
   ]
  },
  {
   "cell_type": "code",
   "execution_count": 106,
   "id": "4de31d91",
   "metadata": {},
   "outputs": [
    {
     "name": "stdout",
     "output_type": "stream",
     "text": [
      "Mean squared error: 0.00\n"
     ]
    }
   ],
   "source": [
    "print(\"Mean squared error: %.2f\" % mean_squared_error(open_test_y, open_y_pred))"
   ]
  },
  {
   "cell_type": "markdown",
   "id": "406feb08",
   "metadata": {},
   "source": [
    "# Part 2: Predict High Prices"
   ]
  },
  {
   "cell_type": "code",
   "execution_count": 121,
   "id": "56b2cdbf",
   "metadata": {},
   "outputs": [],
   "source": [
    "y_high = brazil_data.high"
   ]
  },
  {
   "cell_type": "code",
   "execution_count": 122,
   "id": "6b378624",
   "metadata": {},
   "outputs": [],
   "source": [
    "high_train_X, high_test_X, high_train_y, high_test_y = train_test_split(X, y_high, train_size=0.7,test_size=0.3) "
   ]
  },
  {
   "cell_type": "code",
   "execution_count": 123,
   "id": "8a527d1e",
   "metadata": {},
   "outputs": [],
   "source": [
    "high_model = LinearRegression()"
   ]
  },
  {
   "cell_type": "code",
   "execution_count": 124,
   "id": "8b180c1c",
   "metadata": {},
   "outputs": [],
   "source": [
    "high_y_pred = model.predict(high_test_X)"
   ]
  },
  {
   "cell_type": "code",
   "execution_count": 125,
   "id": "1fa6b364",
   "metadata": {},
   "outputs": [
    {
     "name": "stdout",
     "output_type": "stream",
     "text": [
      "Mean squared error: 432.28\n"
     ]
    }
   ],
   "source": [
    "print(\"Mean squared error: %.2f\" % mean_squared_error(high_test_y, high_y_pred))"
   ]
  },
  {
   "cell_type": "markdown",
   "id": "fe8d3970",
   "metadata": {},
   "source": [
    "# Part 3: Predict Low Prices"
   ]
  },
  {
   "cell_type": "code",
   "execution_count": 116,
   "id": "6f1e49c3",
   "metadata": {},
   "outputs": [],
   "source": [
    "y_low = brazil_data.low"
   ]
  },
  {
   "cell_type": "code",
   "execution_count": 117,
   "id": "8d6397e8",
   "metadata": {},
   "outputs": [],
   "source": [
    "low_train_X, low_test_X, low_train_y, low_test_y = train_test_split(X, y_low, train_size=0.7,test_size=0.3) "
   ]
  },
  {
   "cell_type": "code",
   "execution_count": 118,
   "id": "768b4437",
   "metadata": {},
   "outputs": [],
   "source": [
    "low_model = LinearRegression()"
   ]
  },
  {
   "cell_type": "code",
   "execution_count": 119,
   "id": "035a77e1",
   "metadata": {},
   "outputs": [],
   "source": [
    "low_y_pred = model.predict(low_test_X)"
   ]
  },
  {
   "cell_type": "code",
   "execution_count": 127,
   "id": "b638e43e",
   "metadata": {},
   "outputs": [
    {
     "name": "stdout",
     "output_type": "stream",
     "text": [
      "Mean squared error: 3097.04\n"
     ]
    }
   ],
   "source": [
    "print(\"Mean squared error: %.2f\" % mean_squared_error(low_test_y, low_y_pred))"
   ]
  },
  {
   "cell_type": "markdown",
   "id": "0fd43afe",
   "metadata": {},
   "source": [
    "# Part 4: Predict Close Prices"
   ]
  },
  {
   "cell_type": "code",
   "execution_count": 128,
   "id": "816041c0",
   "metadata": {},
   "outputs": [],
   "source": [
    "y_close = brazil_data.close"
   ]
  },
  {
   "cell_type": "code",
   "execution_count": 129,
   "id": "51160124",
   "metadata": {},
   "outputs": [],
   "source": [
    "close_train_X, close_test_X, close_train_y, close_test_y = train_test_split(X, y_close, train_size=0.7,test_size=0.3) "
   ]
  },
  {
   "cell_type": "code",
   "execution_count": 130,
   "id": "b22eca62",
   "metadata": {},
   "outputs": [],
   "source": [
    "close_model = LinearRegression()"
   ]
  },
  {
   "cell_type": "code",
   "execution_count": 131,
   "id": "10e3044a",
   "metadata": {},
   "outputs": [],
   "source": [
    "close_y_pred = model.predict(close_test_X)"
   ]
  },
  {
   "cell_type": "code",
   "execution_count": 132,
   "id": "ed85966b",
   "metadata": {},
   "outputs": [
    {
     "name": "stdout",
     "output_type": "stream",
     "text": [
      "Mean squared error: 2377.68\n"
     ]
    }
   ],
   "source": [
    "print(\"Mean squared error: %.2f\" % mean_squared_error(close_test_y, close_y_pred))"
   ]
  },
  {
   "cell_type": "markdown",
   "id": "77121694",
   "metadata": {},
   "source": [
    "# Part 5: Predict Volume"
   ]
  },
  {
   "cell_type": "code",
   "execution_count": 136,
   "id": "b43cf273",
   "metadata": {},
   "outputs": [],
   "source": [
    "y_vol = brazil_data.volumen"
   ]
  },
  {
   "cell_type": "code",
   "execution_count": 137,
   "id": "14a46d37",
   "metadata": {},
   "outputs": [],
   "source": [
    "vol_train_X, vol_test_X, vol_train_y, vol_test_y = train_test_split(X, y_vol, train_size=0.7,test_size=0.3) "
   ]
  },
  {
   "cell_type": "code",
   "execution_count": 138,
   "id": "2021191b",
   "metadata": {},
   "outputs": [],
   "source": [
    "vol_model = LinearRegression()"
   ]
  },
  {
   "cell_type": "code",
   "execution_count": 139,
   "id": "99d50669",
   "metadata": {},
   "outputs": [],
   "source": [
    "vol_y_pred = model.predict(vol_test_X)"
   ]
  },
  {
   "cell_type": "code",
   "execution_count": 140,
   "id": "e77dfa8e",
   "metadata": {},
   "outputs": [
    {
     "name": "stdout",
     "output_type": "stream",
     "text": [
      "Mean squared error: 10691296694687364.00\n"
     ]
    }
   ],
   "source": [
    "print(\"Mean squared error: %.2f\" % mean_squared_error(vol_test_y, vol_y_pred))"
   ]
  },
  {
   "cell_type": "code",
   "execution_count": null,
   "id": "71725916",
   "metadata": {},
   "outputs": [],
   "source": []
  }
 ],
 "metadata": {
  "kernelspec": {
   "display_name": "Python 3 (ipykernel)",
   "language": "python",
   "name": "python3"
  },
  "language_info": {
   "codemirror_mode": {
    "name": "ipython",
    "version": 3
   },
   "file_extension": ".py",
   "mimetype": "text/x-python",
   "name": "python",
   "nbconvert_exporter": "python",
   "pygments_lexer": "ipython3",
   "version": "3.10.0"
  }
 },
 "nbformat": 4,
 "nbformat_minor": 5
}
