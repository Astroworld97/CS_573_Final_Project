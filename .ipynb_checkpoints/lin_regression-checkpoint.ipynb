{
 "cells": [
  {
   "cell_type": "code",
   "execution_count": 1,
   "id": "973f0a91",
   "metadata": {},
   "outputs": [],
   "source": [
    "from sklearn.linear_model import LinearRegression\n",
    "import pandas as pd\n",
    "import seaborn as sns"
   ]
  },
  {
   "cell_type": "code",
   "execution_count": 3,
   "id": "d028681b",
   "metadata": {},
   "outputs": [],
   "source": [
    "brazil_data_unclean = pd.read_csv(\n",
    "    \"b3_stocks_1994_2020.csv\"\n",
    ")"
   ]
  },
  {
   "cell_type": "code",
   "execution_count": 4,
   "id": "3ec0d4d4",
   "metadata": {},
   "outputs": [
    {
     "data": {
      "text/html": [
       "<div>\n",
       "<style scoped>\n",
       "    .dataframe tbody tr th:only-of-type {\n",
       "        vertical-align: middle;\n",
       "    }\n",
       "\n",
       "    .dataframe tbody tr th {\n",
       "        vertical-align: top;\n",
       "    }\n",
       "\n",
       "    .dataframe thead th {\n",
       "        text-align: right;\n",
       "    }\n",
       "</style>\n",
       "<table border=\"1\" class=\"dataframe\">\n",
       "  <thead>\n",
       "    <tr style=\"text-align: right;\">\n",
       "      <th></th>\n",
       "      <th>datetime</th>\n",
       "      <th>ticker</th>\n",
       "      <th>open</th>\n",
       "      <th>close</th>\n",
       "      <th>high</th>\n",
       "      <th>low</th>\n",
       "      <th>volumen</th>\n",
       "    </tr>\n",
       "  </thead>\n",
       "  <tbody>\n",
       "    <tr>\n",
       "      <th>0</th>\n",
       "      <td>1994-07-04</td>\n",
       "      <td>ACE 3</td>\n",
       "      <td>48.00</td>\n",
       "      <td>48.00</td>\n",
       "      <td>48.00</td>\n",
       "      <td>47.00</td>\n",
       "      <td>46550.00</td>\n",
       "    </tr>\n",
       "    <tr>\n",
       "      <th>1</th>\n",
       "      <td>1994-07-04</td>\n",
       "      <td>ALP 3</td>\n",
       "      <td>155.27</td>\n",
       "      <td>156.00</td>\n",
       "      <td>156.00</td>\n",
       "      <td>155.27</td>\n",
       "      <td>163405.80</td>\n",
       "    </tr>\n",
       "    <tr>\n",
       "      <th>2</th>\n",
       "      <td>1994-07-04</td>\n",
       "      <td>ALP 4</td>\n",
       "      <td>131.00</td>\n",
       "      <td>131.00</td>\n",
       "      <td>131.00</td>\n",
       "      <td>131.00</td>\n",
       "      <td>6550.00</td>\n",
       "    </tr>\n",
       "    <tr>\n",
       "      <th>3</th>\n",
       "      <td>1994-07-04</td>\n",
       "      <td>IBP 6</td>\n",
       "      <td>600.00</td>\n",
       "      <td>600.00</td>\n",
       "      <td>600.00</td>\n",
       "      <td>600.00</td>\n",
       "      <td>7800.00</td>\n",
       "    </tr>\n",
       "    <tr>\n",
       "      <th>4</th>\n",
       "      <td>1994-07-04</td>\n",
       "      <td>AQT 4</td>\n",
       "      <td>0.89</td>\n",
       "      <td>0.99</td>\n",
       "      <td>0.99</td>\n",
       "      <td>0.85</td>\n",
       "      <td>13137.00</td>\n",
       "    </tr>\n",
       "    <tr>\n",
       "      <th>...</th>\n",
       "      <td>...</td>\n",
       "      <td>...</td>\n",
       "      <td>...</td>\n",
       "      <td>...</td>\n",
       "      <td>...</td>\n",
       "      <td>...</td>\n",
       "      <td>...</td>\n",
       "    </tr>\n",
       "    <tr>\n",
       "      <th>1883198</th>\n",
       "      <td>2020-12-28</td>\n",
       "      <td>Z1TO34</td>\n",
       "      <td>36.72</td>\n",
       "      <td>36.72</td>\n",
       "      <td>36.72</td>\n",
       "      <td>36.72</td>\n",
       "      <td>1358.64</td>\n",
       "    </tr>\n",
       "    <tr>\n",
       "      <th>1883199</th>\n",
       "      <td>2020-12-29</td>\n",
       "      <td>Z1TO34</td>\n",
       "      <td>36.31</td>\n",
       "      <td>36.31</td>\n",
       "      <td>36.31</td>\n",
       "      <td>36.31</td>\n",
       "      <td>3631.00</td>\n",
       "    </tr>\n",
       "    <tr>\n",
       "      <th>1883200</th>\n",
       "      <td>2020-12-30</td>\n",
       "      <td>Z1TO34</td>\n",
       "      <td>38.09</td>\n",
       "      <td>37.50</td>\n",
       "      <td>38.09</td>\n",
       "      <td>37.50</td>\n",
       "      <td>2295.17</td>\n",
       "    </tr>\n",
       "    <tr>\n",
       "      <th>1883201</th>\n",
       "      <td>2020-12-23</td>\n",
       "      <td>Z1TS34</td>\n",
       "      <td>209.18</td>\n",
       "      <td>209.18</td>\n",
       "      <td>209.18</td>\n",
       "      <td>209.18</td>\n",
       "      <td>10459.00</td>\n",
       "    </tr>\n",
       "    <tr>\n",
       "      <th>1883202</th>\n",
       "      <td>2020-12-28</td>\n",
       "      <td>Z1TS34</td>\n",
       "      <td>212.14</td>\n",
       "      <td>213.59</td>\n",
       "      <td>213.59</td>\n",
       "      <td>212.14</td>\n",
       "      <td>425.73</td>\n",
       "    </tr>\n",
       "  </tbody>\n",
       "</table>\n",
       "<p>1883203 rows × 7 columns</p>\n",
       "</div>"
      ],
      "text/plain": [
       "           datetime  ticker    open   close    high     low    volumen\n",
       "0        1994-07-04   ACE 3   48.00   48.00   48.00   47.00   46550.00\n",
       "1        1994-07-04   ALP 3  155.27  156.00  156.00  155.27  163405.80\n",
       "2        1994-07-04   ALP 4  131.00  131.00  131.00  131.00    6550.00\n",
       "3        1994-07-04   IBP 6  600.00  600.00  600.00  600.00    7800.00\n",
       "4        1994-07-04   AQT 4    0.89    0.99    0.99    0.85   13137.00\n",
       "...             ...     ...     ...     ...     ...     ...        ...\n",
       "1883198  2020-12-28  Z1TO34   36.72   36.72   36.72   36.72    1358.64\n",
       "1883199  2020-12-29  Z1TO34   36.31   36.31   36.31   36.31    3631.00\n",
       "1883200  2020-12-30  Z1TO34   38.09   37.50   38.09   37.50    2295.17\n",
       "1883201  2020-12-23  Z1TS34  209.18  209.18  209.18  209.18   10459.00\n",
       "1883202  2020-12-28  Z1TS34  212.14  213.59  213.59  212.14     425.73\n",
       "\n",
       "[1883203 rows x 7 columns]"
      ]
     },
     "execution_count": 4,
     "metadata": {},
     "output_type": "execute_result"
    }
   ],
   "source": [
    "brazil_data_unclean"
   ]
  },
  {
   "cell_type": "code",
   "execution_count": 5,
   "id": "5a57b7b2",
   "metadata": {},
   "outputs": [
    {
     "data": {
      "text/plain": [
       "<AxesSubplot:>"
      ]
     },
     "execution_count": 5,
     "metadata": {},
     "output_type": "execute_result"
    },
    {
     "data": {
      "image/png": "[encoded data removed]",
      "text/plain": [
       "<Figure size 432x288 with 1 Axes>"
      ]
     },
     "metadata": {
      "needs_background": "light"
     },
     "output_type": "display_data"
    }
   ],
   "source": [
    "sns.heatmap(\n",
    "    brazil_data_unclean.isnull(), yticklabels=False, cbar=False, cmap=\"cubehelix\"\n",
    ")"
   ]
  },
  {
   "cell_type": "code",
   "execution_count": 6,
   "id": "33c6e155",
   "metadata": {},
   "outputs": [
    {
     "data": {
      "text/plain": [
       "datetime    False\n",
       "ticker      False\n",
       "open        False\n",
       "close       False\n",
       "high        False\n",
       "low         False\n",
       "volumen     False\n",
       "dtype: bool"
      ]
     },
     "execution_count": 6,
     "metadata": {},
     "output_type": "execute_result"
    }
   ],
   "source": [
    "brazil_data_unclean.isna().any()"
   ]
  },
  {
   "cell_type": "code",
   "execution_count": 1,
   "id": "00ee9c85",
   "metadata": {},
   "outputs": [],
   "source": [
    "X = [\"open\", \"high\", \"low\", \"close\", \"volumen\"]"
   ]
  },
  {
   "cell_type": "code",
   "execution_count": 2,
   "id": "89769b90",
   "metadata": {},
   "outputs": [
    {
     "ename": "AttributeError",
     "evalue": "'list' object has no attribute 'describe'",
     "output_type": "error",
     "traceback": [
      "\u001b[0;31m---------------------------------------------------------------------------\u001b[0m",
      "\u001b[0;31mAttributeError\u001b[0m                            Traceback (most recent call last)",
      "Input \u001b[0;32mIn [2]\u001b[0m, in \u001b[0;36m<cell line: 1>\u001b[0;34m()\u001b[0m\n\u001b[0;32m----> 1\u001b[0m \u001b[43mX\u001b[49m\u001b[38;5;241;43m.\u001b[39;49m\u001b[43mdescribe\u001b[49m()\n",
      "\u001b[0;31mAttributeError\u001b[0m: 'list' object has no attribute 'describe'"
     ]
    }
   ],
   "source": [
    "X.describe()"
   ]
  },
  {
   "cell_type": "code",
   "execution_count": null,
   "id": "d4dc45d8",
   "metadata": {},
   "outputs": [],
   "source": []
  }
 ],
 "metadata": {
  "kernelspec": {
   "display_name": "Python 3 (ipykernel)",
   "language": "python",
   "name": "python3"
  },
  "language_info": {
   "codemirror_mode": {
    "name": "ipython",
    "version": 3
   },
   "file_extension": ".py",
   "mimetype": "text/x-python",
   "name": "python",
   "nbconvert_exporter": "python",
   "pygments_lexer": "ipython3",
   "version": "3.10.0"
  }
 },
 "nbformat": 4,
 "nbformat_minor": 5
}
